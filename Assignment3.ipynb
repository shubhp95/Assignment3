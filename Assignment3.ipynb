{
 "cells": [
  {
   "cell_type": "code",
   "execution_count": 3,
   "id": "db40ecd4",
   "metadata": {
    "scrolled": true
   },
   "outputs": [
    {
     "name": "stdout",
     "output_type": "stream",
     "text": [
      "95\n",
      "Grade A\n"
     ]
    }
   ],
   "source": [
    "#Q1.\n",
    "\n",
    "perc = int(input())\n",
    "\n",
    "if perc > 90 :\n",
    "    print(\"Grade A\")\n",
    "elif perc <= 90 and perc >80:\n",
    "    print(\"Grade B\")\n",
    "elif perc <= 80 and perc >=60:\n",
    "    print(\"Grade C\")\n",
    "else:\n",
    "    print(\"Grade D\")\n"
   ]
  },
  {
   "cell_type": "code",
   "execution_count": 5,
   "id": "1ed6e660",
   "metadata": {},
   "outputs": [
    {
     "name": "stdout",
     "output_type": "stream",
     "text": [
      "200000\n",
      "15%\n"
     ]
    }
   ],
   "source": [
    "#Q2.\n",
    "\n",
    "CP = int(input())\n",
    "\n",
    "if CP > 100000 :\n",
    "    print(\"15%\")\n",
    "elif CP <= 100000 and CP >50000:\n",
    "    print(\"10%\")\n",
    "else:\n",
    "    print(\"5%\")"
   ]
  },
  {
   "cell_type": "code",
   "execution_count": 11,
   "id": "837e0df2",
   "metadata": {},
   "outputs": [
    {
     "name": "stdout",
     "output_type": "stream",
     "text": [
      "Jaipur\n",
      "Jal Mahal\n"
     ]
    }
   ],
   "source": [
    "#Q3.\n",
    "\n",
    "City = input()\n",
    "\n",
    "if City ==\"Delhi\":\n",
    "    print(\"Red Fort\")\n",
    "elif City == \"Agra\":\n",
    "    print(\"Taj Mahal\")\n",
    "elif City == \"Jaipur\":\n",
    "    print(\"Jal Mahal\")\n",
    "    "
   ]
  },
  {
   "cell_type": "code",
   "execution_count": 17,
   "id": "fce605a6",
   "metadata": {},
   "outputs": [
    {
     "name": "stdout",
     "output_type": "stream",
     "text": [
      "27\n",
      "The number 27 can be divided by 3 1 times before becoming less than or equal to 10.\n"
     ]
    }
   ],
   "source": [
    "#Q4.\n",
    "\n",
    "def count_divisible_by_3(number):\n",
    "  \n",
    "    \n",
    "    count = 0\n",
    "    while number > 10:\n",
    "        if number % 3 == 0:\n",
    "            count += 1\n",
    "            number //= 3\n",
    "        else:\n",
    "            break\n",
    "    return count\n",
    "\n",
    "number = int(input())\n",
    "result = count_divisible_by_3(number)\n",
    "print(f\"The number {number} can be divided by 3 {result} times before becoming less than or equal to 10.\")\n"
   ]
  },
  {
   "cell_type": "code",
   "execution_count": 19,
   "id": "fe4a7909",
   "metadata": {},
   "outputs": [
    {
     "name": "stdout",
     "output_type": "stream",
     "text": [
      "0\n",
      "1\n",
      "2\n",
      "3\n",
      "4\n"
     ]
    }
   ],
   "source": [
    "#Q5.\n",
    "\n",
    "'''\n",
    "while loops are a fundamental control flow structure in Python used to execute a block of code repeatedly until a certain \n",
    "condition becomes false.They are ideal for situations where the number of iterations is unknown beforehand or needs\n",
    "to be determined dynamically based on a changing condition.\n",
    "'''\n",
    "\n",
    "count = 0\n",
    "while count < 5: \n",
    "    print(count)\n",
    "    count += 1"
   ]
  },
  {
   "cell_type": "code",
   "execution_count": 22,
   "id": "0ef82ff6",
   "metadata": {},
   "outputs": [
    {
     "name": "stdout",
     "output_type": "stream",
     "text": [
      "*****\n",
      "****\n",
      "***\n",
      "**\n",
      "*\n",
      "* \n",
      "* * \n",
      "* * * \n",
      "* * * * \n",
      "* * * * * \n",
      "  1 \n",
      "  2   3 \n",
      "  4   5   6 \n",
      "  7   8   9  10 \n",
      " 11  12  13  14  15 \n"
     ]
    }
   ],
   "source": [
    "#Q6.\n",
    "\n",
    "# Pattern 1\n",
    "rows = 5\n",
    "while rows > 0:\n",
    "    stars = \"*\" * rows\n",
    "    print(stars)\n",
    "    rows -= 1\n",
    "    \n",
    "\n",
    "# Pattern 2\n",
    "n = 5\n",
    " \n",
    "i = 1\n",
    "while i <= n :\n",
    "    j = 1\n",
    "    while j <= i:\n",
    "        print(\"*\", end = \" \")\n",
    "        j += 1\n",
    "    print()\n",
    "    i += 1\n",
    "    \n",
    "\n",
    "#Pattern 3\n",
    "n = 5\n",
    " \n",
    "k = 1\n",
    "i = 1\n",
    "while i <= n :\n",
    "    j = 1\n",
    "    while j <= i:\n",
    "        print(\"{:3d}\".format(k), end = \" \")\n",
    "        j += 1\n",
    "        k += 1\n",
    "    print()\n",
    "    i += 1\n"
   ]
  },
  {
   "cell_type": "code",
   "execution_count": 23,
   "id": "8368efc8",
   "metadata": {},
   "outputs": [
    {
     "name": "stdout",
     "output_type": "stream",
     "text": [
      "10\n",
      "9\n",
      "8\n",
      "7\n",
      "6\n",
      "5\n",
      "4\n",
      "3\n",
      "2\n",
      "1\n"
     ]
    }
   ],
   "source": [
    "#Q7.\n",
    "\n",
    "num = 10\n",
    "while num >= 1:\n",
    "    print(num)\n",
    "    num -= 1"
   ]
  },
  {
   "cell_type": "code",
   "execution_count": 24,
   "id": "d7837d48",
   "metadata": {},
   "outputs": [
    {
     "name": "stdout",
     "output_type": "stream",
     "text": [
      "10\n",
      "9\n",
      "8\n",
      "7\n",
      "6\n",
      "5\n",
      "4\n",
      "3\n",
      "2\n",
      "1\n"
     ]
    }
   ],
   "source": [
    "#Q8.\n",
    "\n",
    "num = 10\n",
    "while num >= 1:\n",
    "    print(num)\n",
    "    num -= 1"
   ]
  },
  {
   "cell_type": "code",
   "execution_count": null,
   "id": "dc68d83c",
   "metadata": {},
   "outputs": [],
   "source": []
  }
 ],
 "metadata": {
  "kernelspec": {
   "display_name": "Python 3",
   "language": "python",
   "name": "python3"
  },
  "language_info": {
   "codemirror_mode": {
    "name": "ipython",
    "version": 3
   },
   "file_extension": ".py",
   "mimetype": "text/x-python",
   "name": "python",
   "nbconvert_exporter": "python",
   "pygments_lexer": "ipython3",
   "version": "3.8.8"
  }
 },
 "nbformat": 4,
 "nbformat_minor": 5
}
